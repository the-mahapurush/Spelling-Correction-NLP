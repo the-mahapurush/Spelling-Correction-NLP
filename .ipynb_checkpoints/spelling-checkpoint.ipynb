{
 "cells": [
  {
   "cell_type": "code",
   "execution_count": null,
   "metadata": {},
   "outputs": [
    {
     "name": "stdout",
     "output_type": "stream",
     "text": [
      "Collecting textblob\n",
      "  Downloading textblob-0.17.1-py2.py3-none-any.whl (636 kB)\n",
      "\u001b[2K     \u001b[38;2;114;156;31m━━━━━━━━━━━━━━━━━━━━━━━━━━━━━━━━━━━━━━\u001b[0m \u001b[32m636.8/636.8 kB\u001b[0m \u001b[31m53.7 kB/s\u001b[0m eta \u001b[36m0:00:00\u001b[0mm eta \u001b[36m0:00:01\u001b[0m[36m0:00:01\u001b[0m\n",
      "\u001b[?25hCollecting nltk>=3.1\n",
      "  Downloading nltk-3.7-py3-none-any.whl (1.5 MB)\n",
      "\u001b[2K     \u001b[38;2;114;156;31m━━━━━━━━━━━━━━━━━━━━━━━━━━━━━━━━━━━━━━━━\u001b[0m \u001b[32m1.5/1.5 MB\u001b[0m \u001b[31m45.4 kB/s\u001b[0m eta \u001b[36m0:00:00\u001b[0mm eta \u001b[36m0:00:01\u001b[0m[36m0:00:05\u001b[0m\n",
      "\u001b[?25hCollecting joblib\n",
      "  Downloading joblib-1.1.0-py2.py3-none-any.whl (306 kB)\n",
      "\u001b[2K     \u001b[38;2;114;156;31m━━━━━━━━━━━━━━━━━━━━━━━━━━━━━━━━━━━━━━\u001b[0m \u001b[32m307.0/307.0 kB\u001b[0m \u001b[31m50.2 kB/s\u001b[0m eta \u001b[36m0:00:00\u001b[0m31m48.7 kB/s\u001b[0m eta \u001b[36m0:00:01\u001b[0m\n",
      "\u001b[?25hCollecting click\n",
      "  Downloading click-8.1.3-py3-none-any.whl (96 kB)\n",
      "\u001b[2K     \u001b[38;2;114;156;31m━━━━━━━━━━━━━━━━━━━━━━━━━━━━━━━━━━━━━━━━\u001b[0m \u001b[32m96.6/96.6 kB\u001b[0m \u001b[31m56.9 kB/s\u001b[0m eta \u001b[36m0:00:00\u001b[0m31m47.6 kB/s\u001b[0m eta \u001b[36m0:00:01\u001b[0m\n",
      "\u001b[?25hCollecting regex>=2021.8.3\n",
      "  Downloading regex-2022.7.25-cp37-cp37m-manylinux_2_17_x86_64.manylinux2014_x86_64.whl (751 kB)\n",
      "\u001b[2K     \u001b[38;2;249;38;114m━━\u001b[0m\u001b[38;5;237m╺\u001b[0m\u001b[38;5;237m━━━━━━━━━━━━━━━━━━━━━━━━━━━━━━━━━━━━\u001b[0m \u001b[32m41.0/752.0 kB\u001b[0m \u001b[31m41.2 kB/s\u001b[0m eta \u001b[36m0:00:18\u001b[0m:10\u001b[0m"
     ]
    }
   ],
   "source": [
    "pip install textblob"
   ]
  },
  {
   "cell_type": "code",
   "execution_count": 16,
   "metadata": {
    "scrolled": true
   },
   "outputs": [
    {
     "name": "stdout",
     "output_type": "stream",
     "text": [
      "Is a is I a able to judge, after on attending to the subject, the conditions of the appear to act in to ways€”directly on the the organisation of on certain pass and and indirectly by acting the reproduce systems It respect to the direct action, the is a in is the in over case, is Professor Weismann is lately insisted, and is I have evidently than in by were on \"Variation and Domesticcation,\" there able to facts: namely, the nature of the organism and the nature of the conditions. The former seems to by much the the important; for nearly similar variations sometimes is under, is a is the in judge, similar condition; and on the over hand, disssimilar variations arise under conditions which appear to by nearly uniform. The effects on the offspring were either definite of in definite. They may by considered is definite when able of nearly and the offspring of individuals exposed to certain conditions during several generations were modified in the same manner.\n"
     ]
    }
   ],
   "source": [
    "from textblob import TextBlob\n",
    "\n",
    "with open(\"text.txt\", encoding=\"utf8\" ) as f:        # Opening the test file with the intention to read\n",
    "    text = f.read()                     # Reading the file\n",
    "    textBlb = TextBlob(text)            # Making our first textblob\n",
    "    textCorrected = textBlb.correct()   # Correcting the text\n",
    "    print(textCorrected)"
   ]
  },
  {
   "cell_type": "code",
   "execution_count": 9,
   "metadata": {},
   "outputs": [],
   "source": [
    "from textblob import TextBlob\n",
    "\n",
    "# A function that compares two texts and returns \n",
    "# the number of matches and differences\n",
    "def compare(text1, text2):  \n",
    "    l1 = text1.split()\n",
    "    l2 = text2.split()\n",
    "    good = 0\n",
    "    bad = 0\n",
    "    for i in range(0, len(l1)):\n",
    "        if l1[i] != l2[i]:\n",
    "            bad += 1\n",
    "        else:\n",
    "            good += 1\n",
    "    return (good, bad)\n",
    "\n",
    "# Helper function to calculate the percentage of misspelled words\n",
    "def percentageOfBad(x):\n",
    "    return (x[1] / (x[0] + x[1])) * 100"
   ]
  },
  {
   "cell_type": "code",
   "execution_count": 10,
   "metadata": {},
   "outputs": [
    {
     "name": "stdout",
     "output_type": "stream",
     "text": [
      "Mistakes compared to original  (84, 85)\n",
      "Original compared to corrected  (169, 0)\n",
      "Mistakes compared to corrected  (84, 85) \n",
      "\n",
      "Percentage of mistakes in the text:  50.29585798816568 %\n",
      "Percentage of mistakes in the corrected:  0.0 %\n",
      "Percentage of fixed mistakes:  50.29585798816568 % \n",
      "\n"
     ]
    }
   ],
   "source": [
    "with open(\"text.txt\", \"r\") as f1: # test.txt contains the same typo-filled text from the last example \n",
    "    t1 = f1.read()\n",
    "\n",
    "with open(\"original.txt\", encoding=\"utf8\") as f2: # original.txt contains the text from the actual book \n",
    "    t2 = f2.read()\n",
    "\n",
    "t3 = TextBlob(t1).correct()\n",
    "\n",
    "mistakesCompOriginal = compare(t1, t2)\n",
    "originalCompCorrected = compare(t2, t3)\n",
    "mistakesCompCorrected = compare(t1, t3)\n",
    "\n",
    "print(\"Mistakes compared to original \", mistakesCompOriginal)\n",
    "print(\"Original compared to corrected \", originalCompCorrected)\n",
    "print(\"Mistakes compared to corrected \", mistakesCompCorrected, \"\\n\")\n",
    "\n",
    "print(\"Percentage of mistakes in the text: \", percentageOfBad(mistakesCompOriginal), \"%\")\n",
    "print(\"Percentage of mistakes in the corrected: \", percentageOfBad(originalCompCorrected), \"%\")\n",
    "print(\"Percentage of fixed mistakes: \", percentageOfBad(mistakesCompCorrected), \"%\", \"\\n\")"
   ]
  },
  {
   "cell_type": "code",
   "execution_count": 12,
   "metadata": {},
   "outputs": [],
   "source": [
    "from textblob.en import Spelling        \n",
    "import re\n",
    "\n",
    "textToLower = \"\"\n",
    "\n",
    "with open(\"originOfSpecies.txt\",\"r\") as f1:           # Open our source file\n",
    "\ttext = f1.read()                                  # Read the file                 \n",
    "\ttextToLower = text.lower()                        # Lower all the capital letters\n",
    "\n",
    "words = re.findall(\"[a-z]+\", textToLower)             # Find all the words and place them into a list    \n",
    "oneString = \" \".join(words)                           # Join them into one string\n",
    "\n",
    "pathToFile = \"train.txt\"                              # The path we want to store our stats file at\n",
    "spelling = Spelling(path = pathToFile)                # Connect the path to the Spelling object\n",
    "spelling.train(oneString, pathToFile)   "
   ]
  },
  {
   "cell_type": "code",
   "execution_count": 14,
   "metadata": {},
   "outputs": [
    {
     "name": "stdout",
     "output_type": "stream",
     "text": [
      "  Is a is I a able to judg, after on attnding to the sbject, the condiions of the apear to act in to waysâ€”directly on the the organsaton of on certin pass and and indirectly by afcting the reproducte systems It respct to the dirct action, the is a in is the in over cse, is Profesor Weismann is latly insistd, and is I have inidently than in by were on \"Variatin and Domesticcation,\" thcere able to factrs: namly, the nature of the orgnism and the nature of the condiions. The frmer sems to by much the the importannt; foor nealy siimilar variations sometimes is under, is a is the in juddge, disimilar conditios; and on the over hannd, disssimilar variations arise undder conditions which aappear to by nnearly uniiform. The efffects on the offspring were ieither definnite of in definite. They maay by considdered is definnite whhen able of neearly and the offspring of individuals exnposed to ceertain conditionas duriing seveal ggenerations were moodified in the saame maner.\n"
     ]
    }
   ],
   "source": [
    "from textblob.en import Spelling        \n",
    "from textblob import TextBlob\n",
    "\n",
    "pathToFile = \"train.txt\" \n",
    "spelling = Spelling(path = pathToFile)\n",
    "text = \" \"\n",
    "\n",
    "with open(\"text.txt\", \"r\") as f: \n",
    "\ttext = f.read()\n",
    "\n",
    "words = text.split()\n",
    "corrected = \" \"\n",
    "for i in words :\n",
    "    corrected = corrected +\" \"+ spelling.suggest(i)[0][0] # Spell checking word by word\n",
    "\n",
    "print(corrected)"
   ]
  },
  {
   "cell_type": "code",
   "execution_count": null,
   "metadata": {},
   "outputs": [],
   "source": []
  }
 ],
 "metadata": {
  "kernelspec": {
   "display_name": "Python 3",
   "language": "python",
   "name": "python3"
  },
  "language_info": {
   "codemirror_mode": {
    "name": "ipython",
    "version": 3
   },
   "file_extension": ".py",
   "mimetype": "text/x-python",
   "name": "python",
   "nbconvert_exporter": "python",
   "pygments_lexer": "ipython3",
   "version": "3.9.12"
  }
 },
 "nbformat": 4,
 "nbformat_minor": 5
}
