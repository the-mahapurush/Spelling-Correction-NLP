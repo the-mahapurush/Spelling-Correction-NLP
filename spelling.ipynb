{
 "cells": [
  {
   "cell_type": "code",
   "execution_count": 4,
   "metadata": {},
   "outputs": [
    {
     "name": "stdout",
     "output_type": "stream",
     "text": [
      "Defaulting to user installation because normal site-packages is not writeable\n",
      "Collecting textblob\n",
      "  Downloading textblob-0.17.1-py2.py3-none-any.whl (636 kB)\n",
      "\u001b[2K     \u001b[38;2;114;156;31m━━━━━━━━━━━━━━━━━━━━━━━━━━━━━━━━━━━━━━━\u001b[0m \u001b[32m636.8/636.8 kB\u001b[0m \u001b[31m1.4 MB/s\u001b[0m eta \u001b[36m0:00:00\u001b[0mm eta \u001b[36m0:00:01\u001b[0m0:01\u001b[0m:01\u001b[0m\n",
      "\u001b[?25hRequirement already satisfied: nltk>=3.1 in /home/riteish/.local/lib/python3.10/site-packages (from textblob) (3.7)\n",
      "Requirement already satisfied: click in /home/riteish/.local/lib/python3.10/site-packages (from nltk>=3.1->textblob) (8.1.3)\n",
      "Requirement already satisfied: joblib in /home/riteish/.local/lib/python3.10/site-packages (from nltk>=3.1->textblob) (1.1.0)\n",
      "Requirement already satisfied: regex>=2021.8.3 in /home/riteish/.local/lib/python3.10/site-packages (from nltk>=3.1->textblob) (2022.7.24)\n",
      "Requirement already satisfied: tqdm in /home/riteish/.local/lib/python3.10/site-packages (from nltk>=3.1->textblob) (4.64.0)\n",
      "Installing collected packages: textblob\n",
      "Successfully installed textblob-0.17.1\n",
      "Note: you may need to restart the kernel to use updated packages.\n"
     ]
    }
   ],
   "source": [
    "pip install textblob\n"
   ]
  },
  {
   "cell_type": "code",
   "execution_count": 4,
   "metadata": {
    "scrolled": true
   },
   "outputs": [
    {
     "name": "stdout",
     "output_type": "stream",
     "text": [
      "Jawaharlal Peru University is the foremost university in India, and a work renowned centre for teaching and research. Asked number one in India by the National Segment and Accreditation Council with a Trade Joint of 3.91 (on a scale of 4), JNU was ranged no 3 among al universities in India by the National Institutional Banking Framework, Government of India, in 2016 and no 2 in 2017. JNU as received the West University Ward from the President of Indian in 2017.\n",
      "\n"
     ]
    }
   ],
   "source": [
    "from textblob import TextBlob\n",
    "\n",
    "with open(\"text.txt\", encoding=\"utf8\" ) as f:        # Opening the test file to read\n",
    "    text = f.read()                     # Reading the file\n",
    "    textBlb = TextBlob(text)            # Making our first textblob\n",
    "    textCorrected = textBlb.correct()   # Correcting the text\n",
    "    print(textCorrected)"
   ]
  },
  {
   "cell_type": "code",
   "execution_count": 5,
   "metadata": {},
   "outputs": [],
   "source": [
    "from textblob import TextBlob\n",
    "\n",
    "# Defining function that compares two texts and returns the number of matches and differences\n",
    "def compare(text1, text2):  \n",
    "    l1 = text1.split()\n",
    "    l2 = text2.split()\n",
    "    good = 0\n",
    "    bad = 0\n",
    "    for i in range(0, len(l1)):\n",
    "        if l1[i] != l2[i]:\n",
    "            bad += 1\n",
    "        else:\n",
    "            good += 1\n",
    "    return (good, bad)\n",
    "# Function to calculate the percentage of misspelled words\n",
    "def percentageOfBad(x):\n",
    "    return (x[1] / (x[0] + x[1])) * 100"
   ]
  },
  {
   "cell_type": "code",
   "execution_count": 7,
   "metadata": {},
   "outputs": [],
   "source": [
    "from textblob.en import Spelling        \n",
    "import re\n",
    "\n",
    "textToLower = \"\"\n",
    "\n",
    "with open(\"about.txt\",\"r\") as f1:                    # Open our source file\n",
    "\ttext = f1.read()                                  # Read the file                 \n",
    "\ttextToLower = text.lower()                        # Lower all the capital letters\n",
    "\n",
    "words = re.findall(\"[a-z]+\", textToLower)             # all the words and place them into a list    \n",
    "oneString = \" \".join(words)                           # Join them into one string\n",
    "\n",
    "pathToFile = \"train.txt\"                              # The path we want to store our stats file at\n",
    "spelling = Spelling(path = pathToFile)                # Connect the path to the Spelling object\n",
    "spelling.train(oneString, pathToFile)   "
   ]
  },
  {
   "cell_type": "code",
   "execution_count": null,
   "metadata": {},
   "outputs": [],
   "source": [
    "with open(\"text.txt\", \"r\") as f1: # test.txt contains the same typo-filled text from \n",
    "    t1 = f1.read()\n",
    "\n",
    "with open(\"original.txt\", encoding=\"utf8\") as f2: # original.txt contains the text from the actual  \n",
    "    t2 = f2.read()\n",
    "\n",
    "t3 = TextBlob(t1).correct()\n",
    "\n",
    "mistakesCompOriginal =compare(t1, t2)\n",
    "originalCompCorrected =compare(t2, t3)\n",
    "mistakesCompCorrected =compare(t1, t3)\n",
    "\n",
    "print(\"Mistakes compared to original \", mistakesCompOriginal)\n",
    "print(\"Original compared to corrected \", originalCompCorrected)\n",
    "print(\"Mistakes compared to corrected \", mistakesCompCorrected, \"\\n\")\n",
    "\n",
    "print(\"Percentage of mistakes in the text: \", percentageOfBad(mistakesCompOriginal), \"%\")\n",
    "print(\"Percentage of mistakes in the corrected: \", percentageOfBad(originalCompCorrected), \"%\")\n",
    "print(\"Percentage of fixed mistakes: \", percentageOfBad(mistakesCompCorrected), \"%\", \"\\n\")"
   ]
  },
  {
   "cell_type": "code",
   "execution_count": 6,
   "metadata": {},
   "outputs": [
    {
     "name": "stdout",
     "output_type": "stream",
     "text": [
      "  Jawaharlal Nehru University is the foremost university in India and a world renowned centre for teaching and research Ranked number one in India by the National Segment and Accreditation Council with a Grade Point of 3.91 on a scale of 4), JNU was ranked no 3 among a universities in India by the National Institutional Ranking Framework Government of India in 2016 and no 2 in 2017. JNU also received the Test University Award from the President of India in 2017.\n"
     ]
    }
   ],
   "source": [
    "from textblob.en import Spelling        \n",
    "from textblob import TextBlob\n",
    "\n",
    "pathToFile = \"train.txt\" \n",
    "spelling = Spelling(path = pathToFile)\n",
    "text = \" \"\n",
    "\n",
    "with open(\"text.txt\", \"r\") as f: \n",
    "\ttext = f.read()\n",
    "\n",
    "words = text.split()\n",
    "corrected = \" \"\n",
    "for i in words :\n",
    "    corrected = corrected +\" \"+ spelling.suggest(i)[0][0] # Spell checking word by word\n",
    "\n",
    "print(corrected)"
   ]
  },
  {
   "cell_type": "code",
   "execution_count": null,
   "metadata": {},
   "outputs": [],
   "source": []
  }
 ],
 "metadata": {
  "kernelspec": {
   "display_name": "Python 3",
   "language": "python",
   "name": "python3"
  },
  "language_info": {
   "codemirror_mode": {
    "name": "ipython",
    "version": 3
   },
   "file_extension": ".py",
   "mimetype": "text/x-python",
   "name": "python",
   "nbconvert_exporter": "python",
   "pygments_lexer": "ipython3",
   "version": "3.7.3"
  }
 },
 "nbformat": 4,
 "nbformat_minor": 5
}
